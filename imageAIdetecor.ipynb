{
  "cells": [
    {
      "cell_type": "code",
      "execution_count": null,
      "metadata": {
        "id": "ZYWP8ljfG6jX"
      },
      "outputs": [],
      "source": [
        "import tensorflow as tf\n",
        "tf.keras.backend.clear_session()"
      ]
    },
    {
      "cell_type": "code",
      "execution_count": null,
      "metadata": {
        "id": "v4XxZckgG6jb"
      },
      "outputs": [],
      "source": [
        "# TensorFlow and tf.keras\n",
        "import tensorflow as tf\n",
        "import os\n",
        "\n",
        "# Helper libraries\n",
        "import numpy as np\n",
        "import matplotlib.pyplot as plt\n",
        "from keras.preprocessing.image import ImageDataGenerator\n",
        "\n",
        "from keras.models import Sequential\n",
        "from keras.layers import Dense, Dropout, Conv2D, Activation, Flatten, MaxPool2D\n",
        "from keras.optimizers import Adam, RMSprop\n"
      ]
    },
    {
      "cell_type": "code",
      "source": [
        "from google.colab import drive\n",
        "drive.mount('/content/drive')"
      ],
      "metadata": {
        "colab": {
          "base_uri": "https://localhost:8080/"
        },
        "id": "VoUso7wrHMQZ",
        "outputId": "05d0ce1b-47c7-42fd-f299-94121e09e187"
      },
      "execution_count": null,
      "outputs": [
        {
          "output_type": "stream",
          "name": "stdout",
          "text": [
            "Mounted at /content/drive\n"
          ]
        }
      ]
    },
    {
      "cell_type": "code",
      "execution_count": null,
      "metadata": {
        "colab": {
          "base_uri": "https://localhost:8080/"
        },
        "id": "a4SMf3bGG6jb",
        "outputId": "c3e700c7-9ba5-4e0e-a33f-14d0bc02f0ec"
      },
      "outputs": [
        {
          "output_type": "stream",
          "name": "stdout",
          "text": [
            "Num GPUs Available:  1\n"
          ]
        }
      ],
      "source": [
        "print(\"Num GPUs Available: \", len(tf.config.list_physical_devices('GPU')))\n",
        "import os\n",
        "os.environ['TF_GPU_ALLOCATOR'] = 'cuda_malloc_async'"
      ]
    },
    {
      "cell_type": "code",
      "execution_count": null,
      "metadata": {
        "colab": {
          "base_uri": "https://localhost:8080/"
        },
        "id": "qUzt7uqjG6jc",
        "outputId": "6cb2346e-534d-4c88-c1f0-deeb0d395124"
      },
      "outputs": [
        {
          "output_type": "stream",
          "name": "stdout",
          "text": [
            "Looking in indexes: https://pypi.org/simple, https://us-python.pkg.dev/colab-wheels/public/simple/\n",
            "Collecting split-folders\n",
            "  Downloading split_folders-0.5.1-py3-none-any.whl (8.4 kB)\n",
            "Installing collected packages: split-folders\n",
            "Successfully installed split-folders-0.5.1\n"
          ]
        },
        {
          "output_type": "stream",
          "name": "stderr",
          "text": [
            "Copying files: 0 files [00:00, ? files/s]\n"
          ]
        }
      ],
      "source": [
        "# Split train test\n",
        "!pip install split-folders\n",
        "import splitfolders\n",
        "splitfolders.ratio(\"/content/drive/MyDrive/image_data\", output=\"datahasil\", seed=1337, ratio=(.8, .2), group_prefix=None)"
      ]
    },
    {
      "cell_type": "code",
      "execution_count": null,
      "metadata": {
        "id": "Gqxa4l0SG6jc"
      },
      "outputs": [],
      "source": [
        "training_dir = os.path.join('/content/drive/MyDrive/image_data', 'train')\n",
        "testing_dir = os.path.join('/content/drive/MyDrive/image_data', 'test')"
      ]
    },
    {
      "cell_type": "code",
      "execution_count": null,
      "metadata": {
        "colab": {
          "base_uri": "https://localhost:8080/"
        },
        "id": "NYFjOsY0G6jd",
        "outputId": "e640d867-d26b-4cc1-eb76-c305ec4d180d"
      },
      "outputs": [
        {
          "output_type": "stream",
          "name": "stdout",
          "text": [
            "Found 2020 images belonging to 2 classes.\n",
            "Found 420 images belonging to 2 classes.\n"
          ]
        }
      ],
      "source": [
        "training_datagen = ImageDataGenerator(\n",
        "      rescale = 1./255,\n",
        "\t    rotation_range=40,\n",
        "      width_shift_range=0.2,\n",
        "      height_shift_range=0.2,\n",
        "      shear_range=0.2,\n",
        "      zoom_range=0.2,\n",
        "      horizontal_flip=True,\n",
        "      fill_mode='nearest')\n",
        "\n",
        "validation_datagen = ImageDataGenerator(rescale = 1./255)\n",
        "\n",
        "train_generator = training_datagen.flow_from_directory(\n",
        "\ttraining_dir,\n",
        "\ttarget_size=(32,32),\n",
        "\tclass_mode='categorical',\n",
        "  batch_size=32\n",
        ")\n",
        "\n",
        "validation_generator = validation_datagen.flow_from_directory(\n",
        "\ttesting_dir,\n",
        "\ttarget_size=(32,32),\n",
        "\tclass_mode='categorical',\n",
        "  batch_size=32\n",
        ")"
      ]
    },
    {
      "cell_type": "code",
      "execution_count": null,
      "metadata": {
        "colab": {
          "base_uri": "https://localhost:8080/"
        },
        "id": "N8MJ553NG6je",
        "outputId": "b6b63407-82cf-430c-cad4-118de4bea94d"
      },
      "outputs": [
        {
          "output_type": "stream",
          "name": "stdout",
          "text": [
            "{'fake': 0, 'real': 1}\n",
            "['fake', 'real']\n"
          ]
        }
      ],
      "source": [
        "class_indices = train_generator.class_indices\n",
        "print(class_indices)\n",
        "class_names = list(class_indices.keys())\n",
        "print(class_names)"
      ]
    },
    {
      "cell_type": "code",
      "execution_count": null,
      "metadata": {
        "id": "e2kiAUxPG6jf"
      },
      "outputs": [],
      "source": [
        "class myCallback(tf.keras.callbacks.Callback):\n",
        "  def on_epoch_end(self, epoch, logs={}):\n",
        "    if(logs.get('val_accuracy')>0.96):\n",
        "      print(\"\\nReached 96% accuracy so cancelling training!\")\n",
        "      self.model.stop_training = True"
      ]
    },
    {
      "cell_type": "code",
      "execution_count": null,
      "metadata": {
        "colab": {
          "base_uri": "https://localhost:8080/"
        },
        "id": "JTPFGwRnG6jg",
        "outputId": "9059c846-1297-4e37-f31f-96053db8a919"
      },
      "outputs": [
        {
          "output_type": "stream",
          "name": "stdout",
          "text": [
            "Model: \"sequential\"\n",
            "_________________________________________________________________\n",
            " Layer (type)                Output Shape              Param #   \n",
            "=================================================================\n",
            " conv2d (Conv2D)             (None, 30, 30, 64)        1792      \n",
            "                                                                 \n",
            " max_pooling2d (MaxPooling2D  (None, 15, 15, 64)       0         \n",
            " )                                                               \n",
            "                                                                 \n",
            " conv2d_1 (Conv2D)           (None, 13, 13, 64)        36928     \n",
            "                                                                 \n",
            " max_pooling2d_1 (MaxPooling  (None, 6, 6, 64)         0         \n",
            " 2D)                                                             \n",
            "                                                                 \n",
            " conv2d_2 (Conv2D)           (None, 4, 4, 128)         73856     \n",
            "                                                                 \n",
            " flatten (Flatten)           (None, 2048)              0         \n",
            "                                                                 \n",
            " dropout (Dropout)           (None, 2048)              0         \n",
            "                                                                 \n",
            " dense (Dense)               (None, 512)               1049088   \n",
            "                                                                 \n",
            " dense_1 (Dense)             (None, 256)               131328    \n",
            "                                                                 \n",
            " dense_2 (Dense)             (None, 128)               32896     \n",
            "                                                                 \n",
            " dense_3 (Dense)             (None, 64)                8256      \n",
            "                                                                 \n",
            " dense_4 (Dense)             (None, 2)                 130       \n",
            "                                                                 \n",
            "=================================================================\n",
            "Total params: 1,334,274\n",
            "Trainable params: 1,334,274\n",
            "Non-trainable params: 0\n",
            "_________________________________________________________________\n"
          ]
        }
      ],
      "source": [
        "model = tf.keras.models.Sequential([\n",
        "    tf.keras.layers.Conv2D(64, (3, 3), activation='relu', input_shape=(32, 32, 3)),\n",
        "    tf.keras.layers.MaxPooling2D(2, 2),\n",
        "    tf.keras.layers.Conv2D(64, (3, 3), activation='relu'),\n",
        "    tf.keras.layers.MaxPooling2D(2, 2),\n",
        "    tf.keras.layers.Conv2D(128, (3, 3), activation='relu'),\n",
        "    tf.keras.layers.Flatten(),\n",
        "    tf.keras.layers.Dropout(0.5),\n",
        "    tf.keras.layers.Dense(512, activation='relu'),\n",
        "    tf.keras.layers.Dense(256, activation='relu'),\n",
        "    tf.keras.layers.Dense(128, activation='relu'),\n",
        "    tf.keras.layers.Dense(64, activation='relu'),\n",
        "    tf.keras.layers.Dense(2, activation='softmax')\n",
        "])\n",
        "\n",
        "model.summary()"
      ]
    },
    {
      "cell_type": "code",
      "execution_count": null,
      "metadata": {
        "id": "KL3yR6PJG6jh"
      },
      "outputs": [],
      "source": [
        "model.compile(loss = 'categorical_crossentropy',\n",
        "              optimizer='rmsprop',\n",
        "              metrics=['accuracy'])"
      ]
    },
    {
      "cell_type": "code",
      "execution_count": null,
      "metadata": {
        "colab": {
          "base_uri": "https://localhost:8080/"
        },
        "id": "Dl6iSh5HG6jh",
        "outputId": "67984111-103e-4124-96b3-8cba2e37de03"
      },
      "outputs": [
        {
          "output_type": "stream",
          "name": "stdout",
          "text": [
            "Epoch 1/200\n",
            "64/64 [==============================] - 291s 4s/step - loss: 0.6967 - accuracy: 0.5297 - val_loss: 0.6857 - val_accuracy: 0.5104\n",
            "Epoch 2/200\n",
            "64/64 [==============================] - 26s 408ms/step - loss: 0.6569 - accuracy: 0.6168 - val_loss: 0.5778 - val_accuracy: 0.7500\n",
            "Epoch 3/200\n",
            "64/64 [==============================] - 25s 396ms/step - loss: 0.6171 - accuracy: 0.6728 - val_loss: 0.5738 - val_accuracy: 0.6875\n",
            "Epoch 4/200\n",
            "64/64 [==============================] - 14s 229ms/step - loss: 0.6125 - accuracy: 0.6861 - val_loss: 0.4935 - val_accuracy: 0.7708\n",
            "Epoch 5/200\n",
            "64/64 [==============================] - 15s 237ms/step - loss: 0.5800 - accuracy: 0.6916 - val_loss: 0.4625 - val_accuracy: 0.8021\n",
            "Epoch 6/200\n",
            "64/64 [==============================] - 10s 156ms/step - loss: 0.5797 - accuracy: 0.7025 - val_loss: 0.5013 - val_accuracy: 0.7188\n",
            "Epoch 7/200\n",
            "64/64 [==============================] - 8s 133ms/step - loss: 0.5718 - accuracy: 0.7064 - val_loss: 0.5100 - val_accuracy: 0.8021\n",
            "Epoch 8/200\n",
            "64/64 [==============================] - 6s 97ms/step - loss: 0.5609 - accuracy: 0.7158 - val_loss: 0.6235 - val_accuracy: 0.6458\n",
            "Epoch 9/200\n",
            "64/64 [==============================] - 6s 94ms/step - loss: 0.5573 - accuracy: 0.7277 - val_loss: 0.3550 - val_accuracy: 0.8438\n",
            "Epoch 10/200\n",
            "64/64 [==============================] - 6s 88ms/step - loss: 0.5474 - accuracy: 0.7332 - val_loss: 0.7335 - val_accuracy: 0.6875\n",
            "Epoch 11/200\n",
            "64/64 [==============================] - 7s 115ms/step - loss: 0.5407 - accuracy: 0.7406 - val_loss: 0.6573 - val_accuracy: 0.6667\n",
            "Epoch 12/200\n",
            "64/64 [==============================] - 6s 88ms/step - loss: 0.5393 - accuracy: 0.7406 - val_loss: 0.4542 - val_accuracy: 0.8125\n",
            "Epoch 13/200\n",
            "64/64 [==============================] - 6s 92ms/step - loss: 0.5209 - accuracy: 0.7485 - val_loss: 0.5912 - val_accuracy: 0.6562\n",
            "Epoch 14/200\n",
            "64/64 [==============================] - 5s 72ms/step - loss: 0.5144 - accuracy: 0.7530 - val_loss: 0.9279 - val_accuracy: 0.6250\n",
            "Epoch 15/200\n",
            "64/64 [==============================] - 5s 82ms/step - loss: 0.5096 - accuracy: 0.7579 - val_loss: 0.4388 - val_accuracy: 0.7812\n",
            "Epoch 16/200\n",
            "64/64 [==============================] - 4s 69ms/step - loss: 0.5265 - accuracy: 0.7465 - val_loss: 0.4440 - val_accuracy: 0.8229\n",
            "Epoch 17/200\n",
            "64/64 [==============================] - 5s 74ms/step - loss: 0.4925 - accuracy: 0.7668 - val_loss: 0.4945 - val_accuracy: 0.8125\n",
            "Epoch 18/200\n",
            "64/64 [==============================] - 5s 82ms/step - loss: 0.5087 - accuracy: 0.7545 - val_loss: 0.5256 - val_accuracy: 0.7917\n",
            "Epoch 19/200\n",
            "64/64 [==============================] - 5s 71ms/step - loss: 0.4928 - accuracy: 0.7698 - val_loss: 0.5449 - val_accuracy: 0.8125\n",
            "Epoch 20/200\n",
            "64/64 [==============================] - 5s 78ms/step - loss: 0.4961 - accuracy: 0.7708 - val_loss: 0.3706 - val_accuracy: 0.8854\n",
            "Epoch 21/200\n",
            "64/64 [==============================] - 4s 69ms/step - loss: 0.4955 - accuracy: 0.7713 - val_loss: 0.6209 - val_accuracy: 0.7396\n",
            "Epoch 22/200\n",
            "64/64 [==============================] - 5s 71ms/step - loss: 0.4880 - accuracy: 0.7762 - val_loss: 0.4186 - val_accuracy: 0.7917\n",
            "Epoch 23/200\n",
            "64/64 [==============================] - 5s 77ms/step - loss: 0.4957 - accuracy: 0.7629 - val_loss: 0.7673 - val_accuracy: 0.6875\n",
            "Epoch 24/200\n",
            "64/64 [==============================] - 5s 71ms/step - loss: 0.4811 - accuracy: 0.7851 - val_loss: 0.9028 - val_accuracy: 0.6979\n",
            "Epoch 25/200\n",
            "64/64 [==============================] - 5s 73ms/step - loss: 0.4773 - accuracy: 0.7837 - val_loss: 0.4776 - val_accuracy: 0.8021\n",
            "Epoch 26/200\n",
            "64/64 [==============================] - 5s 78ms/step - loss: 0.4861 - accuracy: 0.7589 - val_loss: 0.9723 - val_accuracy: 0.6042\n",
            "Epoch 27/200\n",
            "64/64 [==============================] - 4s 69ms/step - loss: 0.4730 - accuracy: 0.7792 - val_loss: 0.4660 - val_accuracy: 0.8125\n",
            "Epoch 28/200\n",
            "64/64 [==============================] - 5s 71ms/step - loss: 0.4791 - accuracy: 0.7842 - val_loss: 0.5029 - val_accuracy: 0.8125\n",
            "Epoch 29/200\n",
            "64/64 [==============================] - 5s 73ms/step - loss: 0.4659 - accuracy: 0.7896 - val_loss: 0.3716 - val_accuracy: 0.8438\n",
            "Epoch 30/200\n",
            "64/64 [==============================] - 4s 69ms/step - loss: 0.4793 - accuracy: 0.7708 - val_loss: 0.4619 - val_accuracy: 0.8021\n",
            "Epoch 31/200\n",
            "64/64 [==============================] - 5s 76ms/step - loss: 0.4665 - accuracy: 0.7827 - val_loss: 0.3468 - val_accuracy: 0.8438\n",
            "Epoch 32/200\n",
            "64/64 [==============================] - 4s 70ms/step - loss: 0.4611 - accuracy: 0.7901 - val_loss: 0.8383 - val_accuracy: 0.6562\n",
            "Epoch 33/200\n",
            "64/64 [==============================] - 4s 69ms/step - loss: 0.4531 - accuracy: 0.8005 - val_loss: 0.4918 - val_accuracy: 0.7604\n",
            "Epoch 34/200\n",
            "64/64 [==============================] - 5s 80ms/step - loss: 0.4343 - accuracy: 0.7990 - val_loss: 0.5924 - val_accuracy: 0.7188\n",
            "Epoch 35/200\n",
            "64/64 [==============================] - 5s 71ms/step - loss: 0.4370 - accuracy: 0.7970 - val_loss: 0.4660 - val_accuracy: 0.7812\n",
            "Epoch 36/200\n",
            "64/64 [==============================] - 5s 76ms/step - loss: 0.4588 - accuracy: 0.7827 - val_loss: 0.5155 - val_accuracy: 0.7708\n",
            "Epoch 37/200\n",
            "64/64 [==============================] - 4s 68ms/step - loss: 0.4536 - accuracy: 0.7807 - val_loss: 0.6850 - val_accuracy: 0.6979\n",
            "Epoch 38/200\n",
            "64/64 [==============================] - 5s 73ms/step - loss: 0.4392 - accuracy: 0.8000 - val_loss: 1.2987 - val_accuracy: 0.5417\n",
            "Epoch 39/200\n",
            "64/64 [==============================] - 5s 75ms/step - loss: 0.4484 - accuracy: 0.7980 - val_loss: 0.4400 - val_accuracy: 0.8333\n",
            "Epoch 40/200\n",
            "64/64 [==============================] - 5s 73ms/step - loss: 0.4328 - accuracy: 0.8064 - val_loss: 0.5159 - val_accuracy: 0.7708\n",
            "Epoch 41/200\n",
            "64/64 [==============================] - 5s 79ms/step - loss: 0.4274 - accuracy: 0.8015 - val_loss: 0.4266 - val_accuracy: 0.7917\n",
            "Epoch 42/200\n",
            "64/64 [==============================] - 5s 73ms/step - loss: 0.4244 - accuracy: 0.8030 - val_loss: 0.3471 - val_accuracy: 0.8750\n",
            "Epoch 43/200\n",
            "64/64 [==============================] - 4s 69ms/step - loss: 0.4216 - accuracy: 0.8074 - val_loss: 0.6113 - val_accuracy: 0.7396\n",
            "Epoch 44/200\n",
            "64/64 [==============================] - 5s 78ms/step - loss: 0.4205 - accuracy: 0.7980 - val_loss: 0.3655 - val_accuracy: 0.7917\n",
            "Epoch 45/200\n",
            "64/64 [==============================] - 4s 70ms/step - loss: 0.4089 - accuracy: 0.8104 - val_loss: 0.4350 - val_accuracy: 0.8438\n",
            "Epoch 46/200\n",
            "64/64 [==============================] - 5s 70ms/step - loss: 0.4292 - accuracy: 0.8119 - val_loss: 0.5078 - val_accuracy: 0.7917\n",
            "Epoch 47/200\n",
            "64/64 [==============================] - 5s 76ms/step - loss: 0.3990 - accuracy: 0.8208 - val_loss: 0.4977 - val_accuracy: 0.8125\n",
            "Epoch 48/200\n",
            "64/64 [==============================] - 4s 68ms/step - loss: 0.4023 - accuracy: 0.8233 - val_loss: 0.2572 - val_accuracy: 0.9375\n",
            "Epoch 49/200\n",
            "64/64 [==============================] - 5s 72ms/step - loss: 0.4082 - accuracy: 0.8213 - val_loss: 0.3973 - val_accuracy: 0.7812\n",
            "Epoch 50/200\n",
            "64/64 [==============================] - 5s 74ms/step - loss: 0.4236 - accuracy: 0.8015 - val_loss: 0.5675 - val_accuracy: 0.7500\n",
            "Epoch 51/200\n",
            "64/64 [==============================] - 4s 69ms/step - loss: 0.3957 - accuracy: 0.8228 - val_loss: 0.5576 - val_accuracy: 0.7292\n",
            "Epoch 52/200\n",
            "64/64 [==============================] - 5s 72ms/step - loss: 0.4071 - accuracy: 0.8208 - val_loss: 0.3061 - val_accuracy: 0.8125\n",
            "Epoch 53/200\n",
            "64/64 [==============================] - 5s 71ms/step - loss: 0.4126 - accuracy: 0.8248 - val_loss: 0.7584 - val_accuracy: 0.7396\n",
            "Epoch 54/200\n",
            "64/64 [==============================] - 4s 69ms/step - loss: 0.3868 - accuracy: 0.8248 - val_loss: 0.6090 - val_accuracy: 0.7604\n",
            "Epoch 55/200\n",
            "64/64 [==============================] - 5s 78ms/step - loss: 0.4098 - accuracy: 0.8248 - val_loss: 0.3316 - val_accuracy: 0.8750\n",
            "Epoch 56/200\n",
            "64/64 [==============================] - 5s 72ms/step - loss: 0.4066 - accuracy: 0.8188 - val_loss: 0.3246 - val_accuracy: 0.8750\n",
            "Epoch 57/200\n",
            "64/64 [==============================] - 4s 68ms/step - loss: 0.4100 - accuracy: 0.8193 - val_loss: 0.5335 - val_accuracy: 0.7500\n",
            "Epoch 58/200\n",
            "64/64 [==============================] - 5s 76ms/step - loss: 0.3788 - accuracy: 0.8322 - val_loss: 0.6191 - val_accuracy: 0.7708\n",
            "Epoch 59/200\n",
            "64/64 [==============================] - 5s 70ms/step - loss: 0.3893 - accuracy: 0.8257 - val_loss: 0.4016 - val_accuracy: 0.8750\n",
            "Epoch 60/200\n",
            "64/64 [==============================] - 4s 68ms/step - loss: 0.3928 - accuracy: 0.8302 - val_loss: 0.3840 - val_accuracy: 0.8229\n",
            "Epoch 61/200\n",
            "64/64 [==============================] - 5s 79ms/step - loss: 0.3852 - accuracy: 0.8277 - val_loss: 1.0883 - val_accuracy: 0.7083\n",
            "Epoch 62/200\n",
            "64/64 [==============================] - 4s 69ms/step - loss: 0.3718 - accuracy: 0.8371 - val_loss: 0.7060 - val_accuracy: 0.8333\n",
            "Epoch 63/200\n",
            "64/64 [==============================] - 4s 68ms/step - loss: 0.3813 - accuracy: 0.8371 - val_loss: 0.5025 - val_accuracy: 0.7500\n",
            "Epoch 64/200\n",
            "64/64 [==============================] - 5s 75ms/step - loss: 0.3758 - accuracy: 0.8312 - val_loss: 0.7438 - val_accuracy: 0.6875\n",
            "Epoch 65/200\n",
            "64/64 [==============================] - 4s 68ms/step - loss: 0.3896 - accuracy: 0.8257 - val_loss: 0.9355 - val_accuracy: 0.6562\n",
            "Epoch 66/200\n",
            "64/64 [==============================] - 5s 73ms/step - loss: 0.3928 - accuracy: 0.8327 - val_loss: 0.4528 - val_accuracy: 0.7604\n",
            "Epoch 67/200\n",
            "64/64 [==============================] - 5s 72ms/step - loss: 0.3771 - accuracy: 0.8416 - val_loss: 0.6304 - val_accuracy: 0.7604\n",
            "Epoch 68/200\n",
            "64/64 [==============================] - 5s 70ms/step - loss: 0.3671 - accuracy: 0.8411 - val_loss: 0.4039 - val_accuracy: 0.9167\n",
            "Epoch 69/200\n",
            "64/64 [==============================] - 5s 76ms/step - loss: 0.3798 - accuracy: 0.8401 - val_loss: 0.4037 - val_accuracy: 0.8333\n",
            "Epoch 70/200\n",
            "64/64 [==============================] - 5s 82ms/step - loss: 0.3702 - accuracy: 0.8297 - val_loss: 0.3853 - val_accuracy: 0.8438\n",
            "Epoch 71/200\n",
            "64/64 [==============================] - 4s 70ms/step - loss: 0.3791 - accuracy: 0.8342 - val_loss: 0.3633 - val_accuracy: 0.8750\n",
            "Epoch 72/200\n",
            "64/64 [==============================] - 5s 77ms/step - loss: 0.3632 - accuracy: 0.8401 - val_loss: 0.4215 - val_accuracy: 0.8125\n",
            "Epoch 73/200\n",
            "64/64 [==============================] - 4s 68ms/step - loss: 0.3629 - accuracy: 0.8342 - val_loss: 0.4882 - val_accuracy: 0.8125\n",
            "Epoch 74/200\n",
            "64/64 [==============================] - 4s 70ms/step - loss: 0.3643 - accuracy: 0.8421 - val_loss: 0.5959 - val_accuracy: 0.7083\n",
            "Epoch 75/200\n",
            "64/64 [==============================] - 5s 78ms/step - loss: 0.3606 - accuracy: 0.8416 - val_loss: 1.1191 - val_accuracy: 0.7188\n",
            "Epoch 76/200\n",
            "64/64 [==============================] - 4s 69ms/step - loss: 0.3607 - accuracy: 0.8441 - val_loss: 1.0873 - val_accuracy: 0.7188\n",
            "Epoch 77/200\n",
            "64/64 [==============================] - 4s 70ms/step - loss: 0.3641 - accuracy: 0.8391 - val_loss: 0.5424 - val_accuracy: 0.7917\n",
            "Epoch 78/200\n",
            "64/64 [==============================] - 5s 77ms/step - loss: 0.3659 - accuracy: 0.8460 - val_loss: 0.5086 - val_accuracy: 0.7917\n",
            "Epoch 79/200\n",
            "64/64 [==============================] - 4s 70ms/step - loss: 0.3491 - accuracy: 0.8421 - val_loss: 0.6426 - val_accuracy: 0.7604\n",
            "Epoch 80/200\n",
            "64/64 [==============================] - 5s 72ms/step - loss: 0.3758 - accuracy: 0.8297 - val_loss: 0.3862 - val_accuracy: 0.8333\n",
            "Epoch 81/200\n",
            "64/64 [==============================] - 5s 75ms/step - loss: 0.3548 - accuracy: 0.8480 - val_loss: 0.3836 - val_accuracy: 0.8438\n",
            "Epoch 82/200\n",
            "64/64 [==============================] - 4s 69ms/step - loss: 0.3726 - accuracy: 0.8366 - val_loss: 0.3855 - val_accuracy: 0.8438\n",
            "Epoch 83/200\n",
            "64/64 [==============================] - 5s 76ms/step - loss: 0.3535 - accuracy: 0.8500 - val_loss: 0.4757 - val_accuracy: 0.7708\n",
            "Epoch 84/200\n",
            "64/64 [==============================] - 5s 70ms/step - loss: 0.3553 - accuracy: 0.8441 - val_loss: 0.5041 - val_accuracy: 0.7812\n",
            "Epoch 85/200\n",
            "64/64 [==============================] - 4s 70ms/step - loss: 0.3565 - accuracy: 0.8510 - val_loss: 0.8066 - val_accuracy: 0.7188\n",
            "Epoch 86/200\n",
            "64/64 [==============================] - 5s 79ms/step - loss: 0.3605 - accuracy: 0.8460 - val_loss: 0.7868 - val_accuracy: 0.8021\n",
            "Epoch 87/200\n",
            "64/64 [==============================] - 5s 71ms/step - loss: 0.3479 - accuracy: 0.8475 - val_loss: 0.4664 - val_accuracy: 0.8229\n",
            "Epoch 88/200\n",
            "64/64 [==============================] - 4s 69ms/step - loss: 0.3545 - accuracy: 0.8401 - val_loss: 0.4347 - val_accuracy: 0.8021\n",
            "Epoch 89/200\n",
            "64/64 [==============================] - 5s 77ms/step - loss: 0.3661 - accuracy: 0.8361 - val_loss: 0.5290 - val_accuracy: 0.8333\n",
            "Epoch 90/200\n",
            "64/64 [==============================] - 4s 70ms/step - loss: 0.3356 - accuracy: 0.8554 - val_loss: 0.5168 - val_accuracy: 0.8333\n",
            "Epoch 91/200\n",
            "64/64 [==============================] - 4s 67ms/step - loss: 0.3390 - accuracy: 0.8495 - val_loss: 0.6495 - val_accuracy: 0.7708\n",
            "Epoch 92/200\n",
            "64/64 [==============================] - 5s 80ms/step - loss: 0.3537 - accuracy: 0.8530 - val_loss: 0.2471 - val_accuracy: 0.8646\n",
            "Epoch 93/200\n",
            "64/64 [==============================] - 4s 70ms/step - loss: 0.3342 - accuracy: 0.8629 - val_loss: 0.7977 - val_accuracy: 0.7188\n",
            "Epoch 94/200\n",
            "64/64 [==============================] - 5s 78ms/step - loss: 0.3321 - accuracy: 0.8594 - val_loss: 0.5301 - val_accuracy: 0.7917\n",
            "Epoch 95/200\n",
            "64/64 [==============================] - 4s 68ms/step - loss: 0.3457 - accuracy: 0.8505 - val_loss: 0.9485 - val_accuracy: 0.7083\n",
            "Epoch 96/200\n",
            "64/64 [==============================] - 4s 69ms/step - loss: 0.3482 - accuracy: 0.8441 - val_loss: 0.5716 - val_accuracy: 0.7708\n",
            "Epoch 97/200\n",
            "64/64 [==============================] - 5s 74ms/step - loss: 0.3504 - accuracy: 0.8520 - val_loss: 0.4661 - val_accuracy: 0.8542\n",
            "Epoch 98/200\n",
            "64/64 [==============================] - 4s 69ms/step - loss: 0.3433 - accuracy: 0.8426 - val_loss: 0.4362 - val_accuracy: 0.8229\n",
            "Epoch 99/200\n",
            "64/64 [==============================] - 5s 72ms/step - loss: 0.3592 - accuracy: 0.8431 - val_loss: 0.5229 - val_accuracy: 0.8333\n",
            "Epoch 100/200\n",
            "64/64 [==============================] - 5s 71ms/step - loss: 0.3520 - accuracy: 0.8421 - val_loss: 0.5831 - val_accuracy: 0.7604\n",
            "Epoch 101/200\n",
            "64/64 [==============================] - 4s 69ms/step - loss: 0.3303 - accuracy: 0.8550 - val_loss: 0.6423 - val_accuracy: 0.7500\n",
            "Epoch 102/200\n",
            "64/64 [==============================] - 5s 77ms/step - loss: 0.3646 - accuracy: 0.8416 - val_loss: 0.3770 - val_accuracy: 0.8229\n",
            "Epoch 103/200\n",
            "64/64 [==============================] - 5s 74ms/step - loss: 0.3463 - accuracy: 0.8480 - val_loss: 0.6057 - val_accuracy: 0.7812\n",
            "Epoch 104/200\n",
            "64/64 [==============================] - 5s 73ms/step - loss: 0.3247 - accuracy: 0.8535 - val_loss: 0.4594 - val_accuracy: 0.8854\n",
            "Epoch 105/200\n",
            "64/64 [==============================] - 5s 79ms/step - loss: 0.3233 - accuracy: 0.8698 - val_loss: 0.4291 - val_accuracy: 0.8229\n",
            "Epoch 106/200\n",
            "64/64 [==============================] - 5s 70ms/step - loss: 0.3326 - accuracy: 0.8604 - val_loss: 0.6406 - val_accuracy: 0.7917\n",
            "Epoch 107/200\n",
            "64/64 [==============================] - 4s 67ms/step - loss: 0.3242 - accuracy: 0.8579 - val_loss: 0.5192 - val_accuracy: 0.7708\n",
            "Epoch 108/200\n",
            "64/64 [==============================] - 5s 78ms/step - loss: 0.3403 - accuracy: 0.8540 - val_loss: 0.3929 - val_accuracy: 0.8333\n",
            "Epoch 109/200\n",
            "64/64 [==============================] - 4s 70ms/step - loss: 0.3262 - accuracy: 0.8599 - val_loss: 0.6086 - val_accuracy: 0.7812\n",
            "Epoch 110/200\n",
            "64/64 [==============================] - 4s 69ms/step - loss: 0.3241 - accuracy: 0.8545 - val_loss: 0.4420 - val_accuracy: 0.7917\n",
            "Epoch 111/200\n",
            "64/64 [==============================] - 5s 80ms/step - loss: 0.3344 - accuracy: 0.8594 - val_loss: 0.3495 - val_accuracy: 0.8333\n",
            "Epoch 112/200\n",
            "64/64 [==============================] - 4s 69ms/step - loss: 0.3026 - accuracy: 0.8748 - val_loss: 0.6882 - val_accuracy: 0.8438\n",
            "Epoch 113/200\n",
            "64/64 [==============================] - 4s 70ms/step - loss: 0.3196 - accuracy: 0.8713 - val_loss: 0.2822 - val_accuracy: 0.8646\n",
            "Epoch 114/200\n",
            "64/64 [==============================] - 5s 78ms/step - loss: 0.3040 - accuracy: 0.8683 - val_loss: 0.5536 - val_accuracy: 0.8854\n",
            "Epoch 115/200\n",
            "64/64 [==============================] - 5s 72ms/step - loss: 0.3096 - accuracy: 0.8644 - val_loss: 0.4509 - val_accuracy: 0.8333\n",
            "Epoch 116/200\n",
            "64/64 [==============================] - 5s 82ms/step - loss: 0.3245 - accuracy: 0.8629 - val_loss: 0.3214 - val_accuracy: 0.8438\n",
            "Epoch 117/200\n",
            "64/64 [==============================] - 5s 71ms/step - loss: 0.3027 - accuracy: 0.8634 - val_loss: 0.3931 - val_accuracy: 0.8438\n",
            "Epoch 118/200\n",
            "64/64 [==============================] - 5s 71ms/step - loss: 0.3151 - accuracy: 0.8698 - val_loss: 0.6614 - val_accuracy: 0.8125\n",
            "Epoch 119/200\n",
            "64/64 [==============================] - 5s 79ms/step - loss: 0.3063 - accuracy: 0.8683 - val_loss: 0.5422 - val_accuracy: 0.8021\n",
            "Epoch 120/200\n",
            "64/64 [==============================] - 5s 71ms/step - loss: 0.3219 - accuracy: 0.8703 - val_loss: 0.9021 - val_accuracy: 0.6979\n",
            "Epoch 121/200\n",
            "64/64 [==============================] - 4s 70ms/step - loss: 0.3333 - accuracy: 0.8619 - val_loss: 0.5686 - val_accuracy: 0.8229\n",
            "Epoch 122/200\n",
            "64/64 [==============================] - 5s 78ms/step - loss: 0.3048 - accuracy: 0.8634 - val_loss: 0.3769 - val_accuracy: 0.8438\n",
            "Epoch 123/200\n",
            "64/64 [==============================] - 4s 68ms/step - loss: 0.3223 - accuracy: 0.8743 - val_loss: 0.4176 - val_accuracy: 0.8854\n",
            "Epoch 124/200\n",
            "64/64 [==============================] - 4s 70ms/step - loss: 0.3191 - accuracy: 0.8614 - val_loss: 0.3216 - val_accuracy: 0.8750\n",
            "Epoch 125/200\n",
            "64/64 [==============================] - 5s 75ms/step - loss: 0.3044 - accuracy: 0.8683 - val_loss: 0.5052 - val_accuracy: 0.8438\n",
            "Epoch 126/200\n",
            "64/64 [==============================] - 4s 69ms/step - loss: 0.2989 - accuracy: 0.8663 - val_loss: 1.6444 - val_accuracy: 0.6667\n",
            "Epoch 127/200\n",
            "64/64 [==============================] - 5s 75ms/step - loss: 0.3195 - accuracy: 0.8639 - val_loss: 0.8689 - val_accuracy: 0.8229\n",
            "Epoch 128/200\n",
            "64/64 [==============================] - 5s 73ms/step - loss: 0.3052 - accuracy: 0.8832 - val_loss: 0.4479 - val_accuracy: 0.8438\n",
            "Epoch 129/200\n",
            "64/64 [==============================] - 4s 70ms/step - loss: 0.3274 - accuracy: 0.8688 - val_loss: 0.3349 - val_accuracy: 0.8542\n",
            "Epoch 130/200\n",
            "64/64 [==============================] - 5s 75ms/step - loss: 0.2859 - accuracy: 0.8832 - val_loss: 1.0045 - val_accuracy: 0.6667\n",
            "Epoch 131/200\n",
            "64/64 [==============================] - 5s 70ms/step - loss: 0.3071 - accuracy: 0.8782 - val_loss: 0.3801 - val_accuracy: 0.8646\n",
            "Epoch 132/200\n",
            "64/64 [==============================] - 4s 68ms/step - loss: 0.3032 - accuracy: 0.8693 - val_loss: 0.7471 - val_accuracy: 0.7188\n",
            "Epoch 133/200\n",
            "64/64 [==============================] - 5s 75ms/step - loss: 0.3046 - accuracy: 0.8663 - val_loss: 0.5031 - val_accuracy: 0.7917\n",
            "Epoch 134/200\n",
            "64/64 [==============================] - 5s 73ms/step - loss: 0.2961 - accuracy: 0.8792 - val_loss: 0.3119 - val_accuracy: 0.8750\n",
            "Epoch 135/200\n",
            "64/64 [==============================] - 4s 69ms/step - loss: 0.3091 - accuracy: 0.8683 - val_loss: 0.4552 - val_accuracy: 0.8750\n",
            "Epoch 136/200\n",
            "64/64 [==============================] - 5s 80ms/step - loss: 0.3082 - accuracy: 0.8703 - val_loss: 1.1847 - val_accuracy: 0.7292\n",
            "Epoch 137/200\n",
            "64/64 [==============================] - 4s 70ms/step - loss: 0.3204 - accuracy: 0.8653 - val_loss: 0.2846 - val_accuracy: 0.8542\n",
            "Epoch 138/200\n",
            "64/64 [==============================] - 4s 69ms/step - loss: 0.3010 - accuracy: 0.8752 - val_loss: 0.6381 - val_accuracy: 0.7396\n",
            "Epoch 139/200\n",
            "64/64 [==============================] - 5s 78ms/step - loss: 0.2936 - accuracy: 0.8777 - val_loss: 0.3751 - val_accuracy: 0.8438\n",
            "Epoch 140/200\n",
            "64/64 [==============================] - 4s 69ms/step - loss: 0.2956 - accuracy: 0.8792 - val_loss: 0.4360 - val_accuracy: 0.8229\n",
            "Epoch 141/200\n",
            "64/64 [==============================] - 5s 70ms/step - loss: 0.2971 - accuracy: 0.8718 - val_loss: 0.4378 - val_accuracy: 0.8229\n",
            "Epoch 142/200\n",
            "64/64 [==============================] - 5s 74ms/step - loss: 0.2888 - accuracy: 0.8827 - val_loss: 0.6270 - val_accuracy: 0.8333\n",
            "Epoch 143/200\n",
            "64/64 [==============================] - 5s 71ms/step - loss: 0.3165 - accuracy: 0.8599 - val_loss: 0.4549 - val_accuracy: 0.7812\n",
            "Epoch 144/200\n",
            "64/64 [==============================] - 5s 76ms/step - loss: 0.2945 - accuracy: 0.8787 - val_loss: 0.2119 - val_accuracy: 0.9062\n",
            "Epoch 145/200\n",
            "64/64 [==============================] - 5s 71ms/step - loss: 0.3083 - accuracy: 0.8614 - val_loss: 1.2627 - val_accuracy: 0.7500\n",
            "Epoch 146/200\n",
            "64/64 [==============================] - 4s 69ms/step - loss: 0.3015 - accuracy: 0.8634 - val_loss: 0.3260 - val_accuracy: 0.8542\n",
            "Epoch 147/200\n",
            "64/64 [==============================] - 5s 77ms/step - loss: 0.2922 - accuracy: 0.8787 - val_loss: 0.7819 - val_accuracy: 0.8333\n",
            "Epoch 148/200\n",
            "64/64 [==============================] - 4s 70ms/step - loss: 0.3090 - accuracy: 0.8812 - val_loss: 1.2002 - val_accuracy: 0.7708\n",
            "Epoch 149/200\n",
            "64/64 [==============================] - 5s 71ms/step - loss: 0.2862 - accuracy: 0.8886 - val_loss: 0.4126 - val_accuracy: 0.8125\n",
            "Epoch 150/200\n",
            "64/64 [==============================] - 5s 81ms/step - loss: 0.2851 - accuracy: 0.8782 - val_loss: 0.6713 - val_accuracy: 0.8125\n",
            "Epoch 151/200\n",
            "64/64 [==============================] - 5s 71ms/step - loss: 0.2930 - accuracy: 0.8822 - val_loss: 0.4877 - val_accuracy: 0.8438\n",
            "Epoch 152/200\n",
            "64/64 [==============================] - 5s 74ms/step - loss: 0.2935 - accuracy: 0.8802 - val_loss: 0.5185 - val_accuracy: 0.8542\n",
            "Epoch 153/200\n",
            "64/64 [==============================] - 4s 70ms/step - loss: 0.3016 - accuracy: 0.8678 - val_loss: 0.6022 - val_accuracy: 0.8021\n",
            "Epoch 154/200\n",
            "64/64 [==============================] - 5s 73ms/step - loss: 0.2899 - accuracy: 0.8743 - val_loss: 0.4160 - val_accuracy: 0.8333\n",
            "Epoch 155/200\n",
            "64/64 [==============================] - 5s 73ms/step - loss: 0.3033 - accuracy: 0.8693 - val_loss: 0.4124 - val_accuracy: 0.8542\n",
            "Epoch 156/200\n",
            "64/64 [==============================] - 4s 70ms/step - loss: 0.2922 - accuracy: 0.8797 - val_loss: 0.3601 - val_accuracy: 0.8333\n",
            "Epoch 157/200\n",
            "64/64 [==============================] - 5s 78ms/step - loss: 0.2898 - accuracy: 0.8807 - val_loss: 0.5355 - val_accuracy: 0.7917\n",
            "Epoch 158/200\n",
            "64/64 [==============================] - 4s 68ms/step - loss: 0.2820 - accuracy: 0.8812 - val_loss: 0.5234 - val_accuracy: 0.8021\n",
            "Epoch 159/200\n",
            "64/64 [==============================] - 4s 68ms/step - loss: 0.2877 - accuracy: 0.8723 - val_loss: 0.7443 - val_accuracy: 0.8333\n",
            "Epoch 160/200\n",
            "64/64 [==============================] - 6s 88ms/step - loss: 0.2908 - accuracy: 0.8802 - val_loss: 0.3681 - val_accuracy: 0.8854\n",
            "Epoch 161/200\n",
            "64/64 [==============================] - 4s 70ms/step - loss: 0.2930 - accuracy: 0.8757 - val_loss: 0.3827 - val_accuracy: 0.8229\n",
            "Epoch 162/200\n",
            "64/64 [==============================] - 5s 77ms/step - loss: 0.2840 - accuracy: 0.8866 - val_loss: 0.3276 - val_accuracy: 0.8646\n",
            "Epoch 163/200\n",
            "64/64 [==============================] - 4s 69ms/step - loss: 0.2945 - accuracy: 0.8733 - val_loss: 1.0657 - val_accuracy: 0.6875\n",
            "Epoch 164/200\n",
            "64/64 [==============================] - 5s 74ms/step - loss: 0.2964 - accuracy: 0.8767 - val_loss: 0.1962 - val_accuracy: 0.9167\n",
            "Epoch 165/200\n",
            "64/64 [==============================] - 5s 75ms/step - loss: 0.2843 - accuracy: 0.8837 - val_loss: 0.6065 - val_accuracy: 0.8438\n",
            "Epoch 166/200\n",
            "64/64 [==============================] - 5s 73ms/step - loss: 0.2842 - accuracy: 0.8787 - val_loss: 0.5172 - val_accuracy: 0.8333\n",
            "Epoch 167/200\n",
            "64/64 [==============================] - 5s 76ms/step - loss: 0.2939 - accuracy: 0.8911 - val_loss: 1.0067 - val_accuracy: 0.7292\n",
            "Epoch 168/200\n",
            "64/64 [==============================] - 5s 72ms/step - loss: 0.2881 - accuracy: 0.8802 - val_loss: 0.5576 - val_accuracy: 0.7604\n",
            "Epoch 169/200\n",
            "64/64 [==============================] - 4s 70ms/step - loss: 0.2780 - accuracy: 0.8856 - val_loss: 0.5606 - val_accuracy: 0.7812\n",
            "Epoch 170/200\n",
            "64/64 [==============================] - 5s 79ms/step - loss: 0.2721 - accuracy: 0.8881 - val_loss: 1.0270 - val_accuracy: 0.8021\n",
            "Epoch 171/200\n",
            "64/64 [==============================] - 5s 72ms/step - loss: 0.2830 - accuracy: 0.8886 - val_loss: 0.7935 - val_accuracy: 0.7500\n",
            "Epoch 172/200\n",
            "64/64 [==============================] - 5s 71ms/step - loss: 0.2624 - accuracy: 0.8950 - val_loss: 0.2502 - val_accuracy: 0.9271\n",
            "Epoch 173/200\n",
            "64/64 [==============================] - 5s 80ms/step - loss: 0.2903 - accuracy: 0.8827 - val_loss: 0.5654 - val_accuracy: 0.8438\n",
            "Epoch 174/200\n",
            "64/64 [==============================] - 5s 71ms/step - loss: 0.2867 - accuracy: 0.8842 - val_loss: 0.3475 - val_accuracy: 0.8958\n",
            "Epoch 175/200\n",
            "64/64 [==============================] - 5s 73ms/step - loss: 0.2751 - accuracy: 0.8866 - val_loss: 0.7544 - val_accuracy: 0.7604\n",
            "Epoch 176/200\n",
            "64/64 [==============================] - 5s 73ms/step - loss: 0.2930 - accuracy: 0.8847 - val_loss: 0.3480 - val_accuracy: 0.9062\n",
            "Epoch 177/200\n",
            "64/64 [==============================] - 5s 71ms/step - loss: 0.2806 - accuracy: 0.8886 - val_loss: 0.3322 - val_accuracy: 0.8750\n",
            "Epoch 178/200\n",
            "64/64 [==============================] - 5s 76ms/step - loss: 0.2578 - accuracy: 0.8866 - val_loss: 0.4559 - val_accuracy: 0.8333\n",
            "Epoch 179/200\n",
            "64/64 [==============================] - 5s 71ms/step - loss: 0.2806 - accuracy: 0.8881 - val_loss: 0.7085 - val_accuracy: 0.7604\n",
            "Epoch 180/200\n",
            "64/64 [==============================] - 5s 71ms/step - loss: 0.2795 - accuracy: 0.8881 - val_loss: 0.5190 - val_accuracy: 0.7604\n",
            "Epoch 181/200\n",
            "64/64 [==============================] - 5s 80ms/step - loss: 0.2783 - accuracy: 0.8931 - val_loss: 0.5981 - val_accuracy: 0.8125\n",
            "Epoch 182/200\n",
            "64/64 [==============================] - 5s 71ms/step - loss: 0.2783 - accuracy: 0.8851 - val_loss: 0.6032 - val_accuracy: 0.7812\n",
            "Epoch 183/200\n",
            "64/64 [==============================] - 5s 70ms/step - loss: 0.2824 - accuracy: 0.8856 - val_loss: 0.3384 - val_accuracy: 0.8854\n",
            "Epoch 184/200\n",
            "64/64 [==============================] - 5s 80ms/step - loss: 0.2881 - accuracy: 0.8876 - val_loss: 0.7888 - val_accuracy: 0.8229\n",
            "Epoch 185/200\n",
            "64/64 [==============================] - 5s 70ms/step - loss: 0.2669 - accuracy: 0.8881 - val_loss: 0.7129 - val_accuracy: 0.8125\n",
            "Epoch 186/200\n",
            "64/64 [==============================] - 5s 72ms/step - loss: 0.2683 - accuracy: 0.8916 - val_loss: 0.6736 - val_accuracy: 0.7917\n",
            "Epoch 187/200\n",
            "64/64 [==============================] - 5s 78ms/step - loss: 0.2861 - accuracy: 0.8772 - val_loss: 0.3241 - val_accuracy: 0.8646\n",
            "Epoch 188/200\n",
            "64/64 [==============================] - 5s 70ms/step - loss: 0.2770 - accuracy: 0.8881 - val_loss: 1.0766 - val_accuracy: 0.7500\n",
            "Epoch 189/200\n",
            "64/64 [==============================] - 5s 74ms/step - loss: 0.2476 - accuracy: 0.8975 - val_loss: 0.4403 - val_accuracy: 0.8333\n",
            "Epoch 190/200\n",
            "64/64 [==============================] - 5s 76ms/step - loss: 0.2663 - accuracy: 0.8931 - val_loss: 0.9113 - val_accuracy: 0.6875\n",
            "Epoch 191/200\n",
            "64/64 [==============================] - 5s 73ms/step - loss: 0.2711 - accuracy: 0.8851 - val_loss: 0.4652 - val_accuracy: 0.7812\n",
            "Epoch 192/200\n",
            "64/64 [==============================] - 5s 76ms/step - loss: 0.2761 - accuracy: 0.8901 - val_loss: 0.4874 - val_accuracy: 0.8125\n",
            "Epoch 193/200\n",
            "64/64 [==============================] - 5s 72ms/step - loss: 0.2806 - accuracy: 0.8777 - val_loss: 0.3301 - val_accuracy: 0.8750\n",
            "Epoch 194/200\n",
            "64/64 [==============================] - 4s 70ms/step - loss: 0.2857 - accuracy: 0.8847 - val_loss: 0.2673 - val_accuracy: 0.8958\n",
            "Epoch 195/200\n",
            "64/64 [==============================] - 5s 78ms/step - loss: 0.2615 - accuracy: 0.8980 - val_loss: 0.4127 - val_accuracy: 0.8438\n",
            "Epoch 196/200\n",
            "64/64 [==============================] - 5s 71ms/step - loss: 0.2617 - accuracy: 0.8970 - val_loss: 1.0198 - val_accuracy: 0.7292\n",
            "Epoch 197/200\n",
            "64/64 [==============================] - 5s 71ms/step - loss: 0.2863 - accuracy: 0.8822 - val_loss: 0.5551 - val_accuracy: 0.8438\n",
            "Epoch 198/200\n",
            "64/64 [==============================] - 5s 79ms/step - loss: 0.2678 - accuracy: 0.8936 - val_loss: 0.7746 - val_accuracy: 0.8021\n",
            "Epoch 199/200\n",
            "64/64 [==============================] - 5s 72ms/step - loss: 0.2793 - accuracy: 0.8946 - val_loss: 0.5815 - val_accuracy: 0.8438\n",
            "Epoch 200/200\n",
            "64/64 [==============================] - 4s 69ms/step - loss: 0.2708 - accuracy: 0.8931 - val_loss: 0.4222 - val_accuracy: 0.8854\n"
          ]
        }
      ],
      "source": [
        "history = model.fit(train_generator,\n",
        "                    epochs=200,\n",
        "                    validation_data = validation_generator,\n",
        "                    verbose = 1,\n",
        "                    callbacks=[myCallback()],\n",
        "                    validation_steps=3)"
      ]
    },
    {
      "cell_type": "code",
      "execution_count": null,
      "metadata": {
        "colab": {
          "base_uri": "https://localhost:8080/"
        },
        "id": "rYPeoTUdG6jh",
        "outputId": "a4a72962-6451-4255-8e82-08fb4b8dbefd"
      },
      "outputs": [
        {
          "output_type": "stream",
          "name": "stdout",
          "text": [
            "Model Saved!\n"
          ]
        }
      ],
      "source": [
        "model.save_weights('AIimagedetector.h5')\n",
        "print('Model Saved!')\n",
        "\n",
        "# load model\n"
      ]
    },
    {
      "cell_type": "code",
      "execution_count": null,
      "metadata": {
        "colab": {
          "base_uri": "https://localhost:8080/",
          "height": 470
        },
        "id": "CYrOOMKyG6ji",
        "outputId": "2b50196c-5739-470c-b597-ab877d2946a1"
      },
      "outputs": [
        {
          "output_type": "display_data",
          "data": {
            "text/plain": [
              "<Figure size 640x480 with 1 Axes>"
            ],
            "image/png": "[encoded data removed]"
          },
          "metadata": {}
        },
        {
          "output_type": "display_data",
          "data": {
            "text/plain": [
              "<Figure size 640x480 with 0 Axes>"
            ]
          },
          "metadata": {}
        }
      ],
      "source": [
        "import matplotlib.pyplot as plt\n",
        "\n",
        "# Plot the results\n",
        "acc = history.history['accuracy']\n",
        "val_acc = history.history['val_accuracy']\n",
        "loss = history.history['loss']\n",
        "val_loss = history.history['val_loss']\n",
        "\n",
        "epochs = range(len(acc))\n",
        "\n",
        "plt.plot(epochs, acc, 'r', label='Training accuracy')\n",
        "plt.plot(epochs, val_acc, 'b', label='Validation accuracy')\n",
        "plt.title('Training and validation accuracy')\n",
        "plt.legend(loc=0)\n",
        "plt.figure()\n",
        "\n",
        "plt.show()\n"
      ]
    },
    {
      "cell_type": "code",
      "source": [
        "#buat conffusion matrix"
      ],
      "metadata": {
        "colab": {
          "base_uri": "https://localhost:8080/",
          "height": 359
        },
        "id": "DzEEu0NjLMYt",
        "outputId": "02fe1e57-8a11-41de-b44e-9f6969302796"
      },
      "execution_count": null,
      "outputs": [
        {
          "output_type": "error",
          "ename": "ValueError",
          "evalue": "ignored",
          "traceback": [
            "\u001b[0;31m---------------------------------------------------------------------------\u001b[0m",
            "\u001b[0;31mValueError\u001b[0m                                Traceback (most recent call last)",
            "\u001b[0;32m<ipython-input-21-4758675ae3d0>\u001b[0m in \u001b[0;36m<cell line: 6>\u001b[0;34m()\u001b[0m\n\u001b[1;32m      4\u001b[0m \u001b[0mtarget_names\u001b[0m \u001b[0;34m=\u001b[0m \u001b[0;34m[\u001b[0m\u001b[0;34m'class 0'\u001b[0m\u001b[0;34m,\u001b[0m \u001b[0;34m'class 1'\u001b[0m\u001b[0;34m,\u001b[0m \u001b[0;34m'class 2'\u001b[0m\u001b[0;34m]\u001b[0m\u001b[0;34m\u001b[0m\u001b[0;34m\u001b[0m\u001b[0m\n\u001b[1;32m      5\u001b[0m \u001b[0;34m\u001b[0m\u001b[0m\n\u001b[0;32m----> 6\u001b[0;31m \u001b[0mprint\u001b[0m\u001b[0;34m(\u001b[0m\u001b[0mclassification_report\u001b[0m\u001b[0;34m(\u001b[0m\u001b[0my_true\u001b[0m\u001b[0;34m,\u001b[0m \u001b[0my_pred\u001b[0m\u001b[0;34m,\u001b[0m \u001b[0mtarget_names\u001b[0m\u001b[0;34m=\u001b[0m\u001b[0mtarget_names\u001b[0m\u001b[0;34m)\u001b[0m\u001b[0;34m)\u001b[0m\u001b[0;34m\u001b[0m\u001b[0;34m\u001b[0m\u001b[0m\n\u001b[0m",
            "\u001b[0;32m/usr/local/lib/python3.10/dist-packages/sklearn/metrics/_classification.py\u001b[0m in \u001b[0;36mclassification_report\u001b[0;34m(y_true, y_pred, labels, target_names, sample_weight, digits, output_dict, zero_division)\u001b[0m\n\u001b[1;32m   2308\u001b[0m     \"\"\"\n\u001b[1;32m   2309\u001b[0m \u001b[0;34m\u001b[0m\u001b[0m\n\u001b[0;32m-> 2310\u001b[0;31m     \u001b[0my_type\u001b[0m\u001b[0;34m,\u001b[0m \u001b[0my_true\u001b[0m\u001b[0;34m,\u001b[0m \u001b[0my_pred\u001b[0m \u001b[0;34m=\u001b[0m \u001b[0m_check_targets\u001b[0m\u001b[0;34m(\u001b[0m\u001b[0my_true\u001b[0m\u001b[0;34m,\u001b[0m \u001b[0my_pred\u001b[0m\u001b[0;34m)\u001b[0m\u001b[0;34m\u001b[0m\u001b[0;34m\u001b[0m\u001b[0m\n\u001b[0m\u001b[1;32m   2311\u001b[0m \u001b[0;34m\u001b[0m\u001b[0m\n\u001b[1;32m   2312\u001b[0m     \u001b[0;32mif\u001b[0m \u001b[0mlabels\u001b[0m \u001b[0;32mis\u001b[0m \u001b[0;32mNone\u001b[0m\u001b[0;34m:\u001b[0m\u001b[0;34m\u001b[0m\u001b[0;34m\u001b[0m\u001b[0m\n",
            "\u001b[0;32m/usr/local/lib/python3.10/dist-packages/sklearn/metrics/_classification.py\u001b[0m in \u001b[0;36m_check_targets\u001b[0;34m(y_true, y_pred)\u001b[0m\n\u001b[1;32m     84\u001b[0m     \u001b[0my_pred\u001b[0m \u001b[0;34m:\u001b[0m \u001b[0marray\u001b[0m \u001b[0;32mor\u001b[0m \u001b[0mindicator\u001b[0m \u001b[0mmatrix\u001b[0m\u001b[0;34m\u001b[0m\u001b[0;34m\u001b[0m\u001b[0m\n\u001b[1;32m     85\u001b[0m     \"\"\"\n\u001b[0;32m---> 86\u001b[0;31m     \u001b[0mcheck_consistent_length\u001b[0m\u001b[0;34m(\u001b[0m\u001b[0my_true\u001b[0m\u001b[0;34m,\u001b[0m \u001b[0my_pred\u001b[0m\u001b[0;34m)\u001b[0m\u001b[0;34m\u001b[0m\u001b[0;34m\u001b[0m\u001b[0m\n\u001b[0m\u001b[1;32m     87\u001b[0m     \u001b[0mtype_true\u001b[0m \u001b[0;34m=\u001b[0m \u001b[0mtype_of_target\u001b[0m\u001b[0;34m(\u001b[0m\u001b[0my_true\u001b[0m\u001b[0;34m,\u001b[0m \u001b[0minput_name\u001b[0m\u001b[0;34m=\u001b[0m\u001b[0;34m\"y_true\"\u001b[0m\u001b[0;34m)\u001b[0m\u001b[0;34m\u001b[0m\u001b[0;34m\u001b[0m\u001b[0m\n\u001b[1;32m     88\u001b[0m     \u001b[0mtype_pred\u001b[0m \u001b[0;34m=\u001b[0m \u001b[0mtype_of_target\u001b[0m\u001b[0;34m(\u001b[0m\u001b[0my_pred\u001b[0m\u001b[0;34m,\u001b[0m \u001b[0minput_name\u001b[0m\u001b[0;34m=\u001b[0m\u001b[0;34m\"y_pred\"\u001b[0m\u001b[0;34m)\u001b[0m\u001b[0;34m\u001b[0m\u001b[0;34m\u001b[0m\u001b[0m\n",
            "\u001b[0;32m/usr/local/lib/python3.10/dist-packages/sklearn/utils/validation.py\u001b[0m in \u001b[0;36mcheck_consistent_length\u001b[0;34m(*arrays)\u001b[0m\n\u001b[1;32m    395\u001b[0m     \u001b[0muniques\u001b[0m \u001b[0;34m=\u001b[0m \u001b[0mnp\u001b[0m\u001b[0;34m.\u001b[0m\u001b[0munique\u001b[0m\u001b[0;34m(\u001b[0m\u001b[0mlengths\u001b[0m\u001b[0;34m)\u001b[0m\u001b[0;34m\u001b[0m\u001b[0;34m\u001b[0m\u001b[0m\n\u001b[1;32m    396\u001b[0m     \u001b[0;32mif\u001b[0m \u001b[0mlen\u001b[0m\u001b[0;34m(\u001b[0m\u001b[0muniques\u001b[0m\u001b[0;34m)\u001b[0m \u001b[0;34m>\u001b[0m \u001b[0;36m1\u001b[0m\u001b[0;34m:\u001b[0m\u001b[0;34m\u001b[0m\u001b[0;34m\u001b[0m\u001b[0m\n\u001b[0;32m--> 397\u001b[0;31m         raise ValueError(\n\u001b[0m\u001b[1;32m    398\u001b[0m             \u001b[0;34m\"Found input variables with inconsistent numbers of samples: %r\"\u001b[0m\u001b[0;34m\u001b[0m\u001b[0;34m\u001b[0m\u001b[0m\n\u001b[1;32m    399\u001b[0m             \u001b[0;34m%\u001b[0m \u001b[0;34m[\u001b[0m\u001b[0mint\u001b[0m\u001b[0;34m(\u001b[0m\u001b[0ml\u001b[0m\u001b[0;34m)\u001b[0m \u001b[0;32mfor\u001b[0m \u001b[0ml\u001b[0m \u001b[0;32min\u001b[0m \u001b[0mlengths\u001b[0m\u001b[0;34m]\u001b[0m\u001b[0;34m\u001b[0m\u001b[0;34m\u001b[0m\u001b[0m\n",
            "\u001b[0;31mValueError\u001b[0m: Found input variables with inconsistent numbers of samples: [40, 39]"
          ]
        }
      ]
    },
    {
      "cell_type": "code",
      "execution_count": null,
      "metadata": {
        "colab": {
          "base_uri": "https://localhost:8080/"
        },
        "id": "wSh8i9Y0G6ji",
        "outputId": "fe3e66a8-f95d-4167-da95-92b8d934cef4"
      },
      "outputs": [
        {
          "output_type": "stream",
          "name": "stdout",
          "text": [
            "1/1 [==============================] - 0s 94ms/step\n",
            "This image most likely a fake image with a 73.11 percent confidence.\n"
          ]
        }
      ],
      "source": [
        "input = '/content/drive/MyDrive/image_data/test/fake/3.jpg'\n",
        "\n",
        "img = tf.keras.utils.load_img(\n",
        "    input, target_size=(32, 32)\n",
        ")\n",
        "img_array = tf.keras.utils.img_to_array(img)\n",
        "img_array = tf.expand_dims(img_array, 0) # Create a batch\n",
        "\n",
        "predictions = model.predict(img_array)\n",
        "score = tf.nn.softmax(predictions[0])\n",
        "\n",
        "print(\n",
        "    \"This image most likely a {} image with a {:.2f} percent confidence.\"\n",
        "    .format(class_names[np.argmax(score)], 100 * np.max(score))\n",
        ")"
      ]
    },
    {
      "cell_type": "code",
      "source": [
        "!pip install tensorflowjs\n",
        "model.save('keras.h5')\n",
        "!mkdir model\n",
        "!tensorflowjs_converter --input_format keras keras.h5 model/\n",
        "!zip -r model.zip model\n",
        "from google.colab import files\n",
        "files.download('model.zip')"
      ],
      "metadata": {
        "colab": {
          "base_uri": "https://localhost:8080/",
          "height": 1000
        },
        "id": "YhyP24UjY5jG",
        "outputId": "5be94083-ec15-41c4-b9b4-f46cac66852b"
      },
      "execution_count": null,
      "outputs": [
        {
          "output_type": "stream",
          "name": "stdout",
          "text": [
            "Looking in indexes: https://pypi.org/simple, https://us-python.pkg.dev/colab-wheels/public/simple/\n",
            "Collecting tensorflowjs\n",
            "  Downloading tensorflowjs-4.7.0-py3-none-any.whl (85 kB)\n",
            "\u001b[2K     \u001b[90m━━━━━━━━━━━━━━━━━━━━━━━━━━━━━━━━━━━━━━━━\u001b[0m \u001b[32m85.1/85.1 kB\u001b[0m \u001b[31m4.2 MB/s\u001b[0m eta \u001b[36m0:00:00\u001b[0m\n",
            "\u001b[?25hCollecting flax<0.6.3,>=0.6.2 (from tensorflowjs)\n",
            "  Downloading flax-0.6.2-py3-none-any.whl (189 kB)\n",
            "\u001b[2K     \u001b[90m━━━━━━━━━━━━━━━━━━━━━━━━━━━━━━━━━━━━━━\u001b[0m \u001b[32m189.9/189.9 kB\u001b[0m \u001b[31m12.1 MB/s\u001b[0m eta \u001b[36m0:00:00\u001b[0m\n",
            "\u001b[?25hRequirement already satisfied: importlib_resources>=5.9.0 in /usr/local/lib/python3.10/dist-packages (from tensorflowjs) (5.12.0)\n",
            "Requirement already satisfied: jax>=0.3.16 in /usr/local/lib/python3.10/dist-packages (from tensorflowjs) (0.4.10)\n",
            "Requirement already satisfied: tensorflow<3,>=2.12.0 in /usr/local/lib/python3.10/dist-packages (from tensorflowjs) (2.12.0)\n",
            "Collecting tensorflow-decision-forests>=1.3.0 (from tensorflowjs)\n",
            "  Downloading tensorflow_decision_forests-1.3.0-cp310-cp310-manylinux_2_17_x86_64.manylinux2014_x86_64.whl (16.4 MB)\n",
            "\u001b[2K     \u001b[90m━━━━━━━━━━━━━━━━━━━━━━━━━━━━━━━━━━━━━━━━\u001b[0m \u001b[32m16.4/16.4 MB\u001b[0m \u001b[31m68.1 MB/s\u001b[0m eta \u001b[36m0:00:00\u001b[0m\n",
            "\u001b[?25hRequirement already satisfied: six<2,>=1.12.0 in /usr/local/lib/python3.10/dist-packages (from tensorflowjs) (1.16.0)\n",
            "Requirement already satisfied: tensorflow-hub>=0.13.0 in /usr/local/lib/python3.10/dist-packages (from tensorflowjs) (0.13.0)\n",
            "Collecting packaging~=20.9 (from tensorflowjs)\n",
            "  Downloading packaging-20.9-py2.py3-none-any.whl (40 kB)\n",
            "\u001b[2K     \u001b[90m━━━━━━━━━━━━━━━━━━━━━━━━━━━━━━━━━━━━━━━━\u001b[0m \u001b[32m40.9/40.9 kB\u001b[0m \u001b[31m4.9 MB/s\u001b[0m eta \u001b[36m0:00:00\u001b[0m\n",
            "\u001b[?25hRequirement already satisfied: numpy>=1.12 in /usr/local/lib/python3.10/dist-packages (from flax<0.6.3,>=0.6.2->tensorflowjs) (1.22.4)\n",
            "Requirement already satisfied: matplotlib in /usr/local/lib/python3.10/dist-packages (from flax<0.6.3,>=0.6.2->tensorflowjs) (3.7.1)\n",
            "Requirement already satisfied: msgpack in /usr/local/lib/python3.10/dist-packages (from flax<0.6.3,>=0.6.2->tensorflowjs) (1.0.5)\n",
            "Requirement already satisfied: optax in /usr/local/lib/python3.10/dist-packages (from flax<0.6.3,>=0.6.2->tensorflowjs) (0.1.5)\n",
            "Requirement already satisfied: tensorstore in /usr/local/lib/python3.10/dist-packages (from flax<0.6.3,>=0.6.2->tensorflowjs) (0.1.36)\n",
            "Requirement already satisfied: rich>=11.1 in /usr/local/lib/python3.10/dist-packages (from flax<0.6.3,>=0.6.2->tensorflowjs) (13.3.4)\n",
            "Requirement already satisfied: typing-extensions>=4.1.1 in /usr/local/lib/python3.10/dist-packages (from flax<0.6.3,>=0.6.2->tensorflowjs) (4.5.0)\n",
            "Requirement already satisfied: PyYAML>=5.4.1 in /usr/local/lib/python3.10/dist-packages (from flax<0.6.3,>=0.6.2->tensorflowjs) (6.0)\n",
            "Requirement already satisfied: ml-dtypes>=0.1.0 in /usr/local/lib/python3.10/dist-packages (from jax>=0.3.16->tensorflowjs) (0.1.0)\n",
            "Requirement already satisfied: opt-einsum in /usr/local/lib/python3.10/dist-packages (from jax>=0.3.16->tensorflowjs) (3.3.0)\n",
            "Requirement already satisfied: scipy>=1.7 in /usr/local/lib/python3.10/dist-packages (from jax>=0.3.16->tensorflowjs) (1.10.1)\n",
            "Requirement already satisfied: pyparsing>=2.0.2 in /usr/local/lib/python3.10/dist-packages (from packaging~=20.9->tensorflowjs) (3.0.9)\n",
            "Requirement already satisfied: absl-py>=1.0.0 in /usr/local/lib/python3.10/dist-packages (from tensorflow<3,>=2.12.0->tensorflowjs) (1.4.0)\n",
            "Requirement already satisfied: astunparse>=1.6.0 in /usr/local/lib/python3.10/dist-packages (from tensorflow<3,>=2.12.0->tensorflowjs) (1.6.3)\n",
            "Requirement already satisfied: flatbuffers>=2.0 in /usr/local/lib/python3.10/dist-packages (from tensorflow<3,>=2.12.0->tensorflowjs) (23.3.3)\n",
            "Requirement already satisfied: gast<=0.4.0,>=0.2.1 in /usr/local/lib/python3.10/dist-packages (from tensorflow<3,>=2.12.0->tensorflowjs) (0.4.0)\n",
            "Requirement already satisfied: google-pasta>=0.1.1 in /usr/local/lib/python3.10/dist-packages (from tensorflow<3,>=2.12.0->tensorflowjs) (0.2.0)\n",
            "Requirement already satisfied: grpcio<2.0,>=1.24.3 in /usr/local/lib/python3.10/dist-packages (from tensorflow<3,>=2.12.0->tensorflowjs) (1.54.0)\n",
            "Requirement already satisfied: h5py>=2.9.0 in /usr/local/lib/python3.10/dist-packages (from tensorflow<3,>=2.12.0->tensorflowjs) (3.8.0)\n",
            "Requirement already satisfied: keras<2.13,>=2.12.0 in /usr/local/lib/python3.10/dist-packages (from tensorflow<3,>=2.12.0->tensorflowjs) (2.12.0)\n",
            "Requirement already satisfied: libclang>=13.0.0 in /usr/local/lib/python3.10/dist-packages (from tensorflow<3,>=2.12.0->tensorflowjs) (16.0.0)\n",
            "Requirement already satisfied: protobuf!=4.21.0,!=4.21.1,!=4.21.2,!=4.21.3,!=4.21.4,!=4.21.5,<5.0.0dev,>=3.20.3 in /usr/local/lib/python3.10/dist-packages (from tensorflow<3,>=2.12.0->tensorflowjs) (3.20.3)\n",
            "Requirement already satisfied: setuptools in /usr/local/lib/python3.10/dist-packages (from tensorflow<3,>=2.12.0->tensorflowjs) (67.7.2)\n",
            "Requirement already satisfied: tensorboard<2.13,>=2.12 in /usr/local/lib/python3.10/dist-packages (from tensorflow<3,>=2.12.0->tensorflowjs) (2.12.2)\n",
            "Requirement already satisfied: tensorflow-estimator<2.13,>=2.12.0 in /usr/local/lib/python3.10/dist-packages (from tensorflow<3,>=2.12.0->tensorflowjs) (2.12.0)\n",
            "Requirement already satisfied: termcolor>=1.1.0 in /usr/local/lib/python3.10/dist-packages (from tensorflow<3,>=2.12.0->tensorflowjs) (2.3.0)\n",
            "Requirement already satisfied: wrapt<1.15,>=1.11.0 in /usr/local/lib/python3.10/dist-packages (from tensorflow<3,>=2.12.0->tensorflowjs) (1.14.1)\n",
            "Requirement already satisfied: tensorflow-io-gcs-filesystem>=0.23.1 in /usr/local/lib/python3.10/dist-packages (from tensorflow<3,>=2.12.0->tensorflowjs) (0.32.0)\n",
            "Requirement already satisfied: pandas in /usr/local/lib/python3.10/dist-packages (from tensorflow-decision-forests>=1.3.0->tensorflowjs) (1.5.3)\n",
            "Requirement already satisfied: wheel in /usr/local/lib/python3.10/dist-packages (from tensorflow-decision-forests>=1.3.0->tensorflowjs) (0.40.0)\n",
            "Collecting wurlitzer (from tensorflow-decision-forests>=1.3.0->tensorflowjs)\n",
            "  Downloading wurlitzer-3.0.3-py3-none-any.whl (7.3 kB)\n",
            "Requirement already satisfied: markdown-it-py<3.0.0,>=2.2.0 in /usr/local/lib/python3.10/dist-packages (from rich>=11.1->flax<0.6.3,>=0.6.2->tensorflowjs) (2.2.0)\n",
            "Requirement already satisfied: pygments<3.0.0,>=2.13.0 in /usr/local/lib/python3.10/dist-packages (from rich>=11.1->flax<0.6.3,>=0.6.2->tensorflowjs) (2.14.0)\n",
            "Requirement already satisfied: google-auth<3,>=1.6.3 in /usr/local/lib/python3.10/dist-packages (from tensorboard<2.13,>=2.12->tensorflow<3,>=2.12.0->tensorflowjs) (2.17.3)\n",
            "Requirement already satisfied: google-auth-oauthlib<1.1,>=0.5 in /usr/local/lib/python3.10/dist-packages (from tensorboard<2.13,>=2.12->tensorflow<3,>=2.12.0->tensorflowjs) (1.0.0)\n",
            "Requirement already satisfied: markdown>=2.6.8 in /usr/local/lib/python3.10/dist-packages (from tensorboard<2.13,>=2.12->tensorflow<3,>=2.12.0->tensorflowjs) (3.4.3)\n",
            "Requirement already satisfied: requests<3,>=2.21.0 in /usr/local/lib/python3.10/dist-packages (from tensorboard<2.13,>=2.12->tensorflow<3,>=2.12.0->tensorflowjs) (2.27.1)\n",
            "Requirement already satisfied: tensorboard-data-server<0.8.0,>=0.7.0 in /usr/local/lib/python3.10/dist-packages (from tensorboard<2.13,>=2.12->tensorflow<3,>=2.12.0->tensorflowjs) (0.7.0)\n",
            "Requirement already satisfied: tensorboard-plugin-wit>=1.6.0 in /usr/local/lib/python3.10/dist-packages (from tensorboard<2.13,>=2.12->tensorflow<3,>=2.12.0->tensorflowjs) (1.8.1)\n",
            "Requirement already satisfied: werkzeug>=1.0.1 in /usr/local/lib/python3.10/dist-packages (from tensorboard<2.13,>=2.12->tensorflow<3,>=2.12.0->tensorflowjs) (2.3.0)\n",
            "Requirement already satisfied: contourpy>=1.0.1 in /usr/local/lib/python3.10/dist-packages (from matplotlib->flax<0.6.3,>=0.6.2->tensorflowjs) (1.0.7)\n",
            "Requirement already satisfied: cycler>=0.10 in /usr/local/lib/python3.10/dist-packages (from matplotlib->flax<0.6.3,>=0.6.2->tensorflowjs) (0.11.0)\n",
            "Requirement already satisfied: fonttools>=4.22.0 in /usr/local/lib/python3.10/dist-packages (from matplotlib->flax<0.6.3,>=0.6.2->tensorflowjs) (4.39.3)\n",
            "Requirement already satisfied: kiwisolver>=1.0.1 in /usr/local/lib/python3.10/dist-packages (from matplotlib->flax<0.6.3,>=0.6.2->tensorflowjs) (1.4.4)\n",
            "Requirement already satisfied: pillow>=6.2.0 in /usr/local/lib/python3.10/dist-packages (from matplotlib->flax<0.6.3,>=0.6.2->tensorflowjs) (8.4.0)\n",
            "Requirement already satisfied: python-dateutil>=2.7 in /usr/local/lib/python3.10/dist-packages (from matplotlib->flax<0.6.3,>=0.6.2->tensorflowjs) (2.8.2)\n",
            "Requirement already satisfied: chex>=0.1.5 in /usr/local/lib/python3.10/dist-packages (from optax->flax<0.6.3,>=0.6.2->tensorflowjs) (0.1.7)\n",
            "Requirement already satisfied: jaxlib>=0.1.37 in /usr/local/lib/python3.10/dist-packages (from optax->flax<0.6.3,>=0.6.2->tensorflowjs) (0.4.10+cuda11.cudnn86)\n",
            "Requirement already satisfied: pytz>=2020.1 in /usr/local/lib/python3.10/dist-packages (from pandas->tensorflow-decision-forests>=1.3.0->tensorflowjs) (2022.7.1)\n",
            "Requirement already satisfied: dm-tree>=0.1.5 in /usr/local/lib/python3.10/dist-packages (from chex>=0.1.5->optax->flax<0.6.3,>=0.6.2->tensorflowjs) (0.1.8)\n",
            "Requirement already satisfied: toolz>=0.9.0 in /usr/local/lib/python3.10/dist-packages (from chex>=0.1.5->optax->flax<0.6.3,>=0.6.2->tensorflowjs) (0.12.0)\n",
            "Requirement already satisfied: cachetools<6.0,>=2.0.0 in /usr/local/lib/python3.10/dist-packages (from google-auth<3,>=1.6.3->tensorboard<2.13,>=2.12->tensorflow<3,>=2.12.0->tensorflowjs) (5.3.0)\n",
            "Requirement already satisfied: pyasn1-modules>=0.2.1 in /usr/local/lib/python3.10/dist-packages (from google-auth<3,>=1.6.3->tensorboard<2.13,>=2.12->tensorflow<3,>=2.12.0->tensorflowjs) (0.3.0)\n",
            "Requirement already satisfied: rsa<5,>=3.1.4 in /usr/local/lib/python3.10/dist-packages (from google-auth<3,>=1.6.3->tensorboard<2.13,>=2.12->tensorflow<3,>=2.12.0->tensorflowjs) (4.9)\n",
            "Requirement already satisfied: requests-oauthlib>=0.7.0 in /usr/local/lib/python3.10/dist-packages (from google-auth-oauthlib<1.1,>=0.5->tensorboard<2.13,>=2.12->tensorflow<3,>=2.12.0->tensorflowjs) (1.3.1)\n",
            "Requirement already satisfied: mdurl~=0.1 in /usr/local/lib/python3.10/dist-packages (from markdown-it-py<3.0.0,>=2.2.0->rich>=11.1->flax<0.6.3,>=0.6.2->tensorflowjs) (0.1.2)\n",
            "Requirement already satisfied: urllib3<1.27,>=1.21.1 in /usr/local/lib/python3.10/dist-packages (from requests<3,>=2.21.0->tensorboard<2.13,>=2.12->tensorflow<3,>=2.12.0->tensorflowjs) (1.26.15)\n",
            "Requirement already satisfied: certifi>=2017.4.17 in /usr/local/lib/python3.10/dist-packages (from requests<3,>=2.21.0->tensorboard<2.13,>=2.12->tensorflow<3,>=2.12.0->tensorflowjs) (2022.12.7)\n",
            "Requirement already satisfied: charset-normalizer~=2.0.0 in /usr/local/lib/python3.10/dist-packages (from requests<3,>=2.21.0->tensorboard<2.13,>=2.12->tensorflow<3,>=2.12.0->tensorflowjs) (2.0.12)\n",
            "Requirement already satisfied: idna<4,>=2.5 in /usr/local/lib/python3.10/dist-packages (from requests<3,>=2.21.0->tensorboard<2.13,>=2.12->tensorflow<3,>=2.12.0->tensorflowjs) (3.4)\n",
            "Requirement already satisfied: MarkupSafe>=2.1.1 in /usr/local/lib/python3.10/dist-packages (from werkzeug>=1.0.1->tensorboard<2.13,>=2.12->tensorflow<3,>=2.12.0->tensorflowjs) (2.1.2)\n",
            "Requirement already satisfied: pyasn1<0.6.0,>=0.4.6 in /usr/local/lib/python3.10/dist-packages (from pyasn1-modules>=0.2.1->google-auth<3,>=1.6.3->tensorboard<2.13,>=2.12->tensorflow<3,>=2.12.0->tensorflowjs) (0.5.0)\n",
            "Requirement already satisfied: oauthlib>=3.0.0 in /usr/local/lib/python3.10/dist-packages (from requests-oauthlib>=0.7.0->google-auth-oauthlib<1.1,>=0.5->tensorboard<2.13,>=2.12->tensorflow<3,>=2.12.0->tensorflowjs) (3.2.2)\n",
            "Installing collected packages: wurlitzer, packaging, flax, tensorflow-decision-forests, tensorflowjs\n",
            "  Attempting uninstall: packaging\n",
            "    Found existing installation: packaging 23.1\n",
            "    Uninstalling packaging-23.1:\n",
            "      Successfully uninstalled packaging-23.1\n",
            "  Attempting uninstall: flax\n",
            "    Found existing installation: flax 0.6.9\n",
            "    Uninstalling flax-0.6.9:\n",
            "      Successfully uninstalled flax-0.6.9\n",
            "\u001b[31mERROR: pip's dependency resolver does not currently take into account all the packages that are installed. This behaviour is the source of the following dependency conflicts.\n",
            "statsmodels 0.13.5 requires packaging>=21.3, but you have packaging 20.9 which is incompatible.\n",
            "xarray 2022.12.0 requires packaging>=21.3, but you have packaging 20.9 which is incompatible.\u001b[0m\u001b[31m\n",
            "\u001b[0mSuccessfully installed flax-0.6.2 packaging-20.9 tensorflow-decision-forests-1.3.0 tensorflowjs-4.7.0 wurlitzer-3.0.3\n"
          ]
        },
        {
          "output_type": "display_data",
          "data": {
            "application/vnd.colab-display-data+json": {
              "pip_warning": {
                "packages": [
                  "packaging"
                ]
              }
            }
          },
          "metadata": {}
        },
        {
          "output_type": "stream",
          "name": "stdout",
          "text": [
            "2023-06-14 04:10:24.592831: W tensorflow/compiler/tf2tensorrt/utils/py_utils.cc:38] TF-TRT Warning: Could not find TensorRT\n",
            "  adding: model/ (stored 0%)\n",
            "  adding: model/group1-shard1of2.bin (deflated 7%)\n",
            "  adding: model/group1-shard2of2.bin (deflated 8%)\n",
            "  adding: model/model.json (deflated 84%)\n"
          ]
        },
        {
          "output_type": "display_data",
          "data": {
            "text/plain": [
              "<IPython.core.display.Javascript object>"
            ],
            "application/javascript": [
              "\n",
              "    async function download(id, filename, size) {\n",
              "      if (!google.colab.kernel.accessAllowed) {\n",
              "        return;\n",
              "      }\n",
              "      const div = document.createElement('div');\n",
              "      const label = document.createElement('label');\n",
              "      label.textContent = `Downloading \"${filename}\": `;\n",
              "      div.appendChild(label);\n",
              "      const progress = document.createElement('progress');\n",
              "      progress.max = size;\n",
              "      div.appendChild(progress);\n",
              "      document.body.appendChild(div);\n",
              "\n",
              "      const buffers = [];\n",
              "      let downloaded = 0;\n",
              "\n",
              "      const channel = await google.colab.kernel.comms.open(id);\n",
              "      // Send a message to notify the kernel that we're ready.\n",
              "      channel.send({})\n",
              "\n",
              "      for await (const message of channel.messages) {\n",
              "        // Send a message to notify the kernel that we're ready.\n",
              "        channel.send({})\n",
              "        if (message.buffers) {\n",
              "          for (const buffer of message.buffers) {\n",
              "            buffers.push(buffer);\n",
              "            downloaded += buffer.byteLength;\n",
              "            progress.value = downloaded;\n",
              "          }\n",
              "        }\n",
              "      }\n",
              "      const blob = new Blob(buffers, {type: 'application/binary'});\n",
              "      const a = document.createElement('a');\n",
              "      a.href = window.URL.createObjectURL(blob);\n",
              "      a.download = filename;\n",
              "      div.appendChild(a);\n",
              "      a.click();\n",
              "      div.remove();\n",
              "    }\n",
              "  "
            ]
          },
          "metadata": {}
        },
        {
          "output_type": "display_data",
          "data": {
            "text/plain": [
              "<IPython.core.display.Javascript object>"
            ],
            "application/javascript": [
              "download(\"download_0a5ab127-8496-4634-9278-b7ffb492c84a\", \"model.zip\", 4949939)"
            ]
          },
          "metadata": {}
        }
      ]
    }
  ],
  "metadata": {
    "kernelspec": {
      "display_name": "Python 3",
      "name": "python3"
    },
    "language_info": {
      "codemirror_mode": {
        "name": "ipython",
        "version": 3
      },
      "file_extension": ".py",
      "mimetype": "text/x-python",
      "name": "python",
      "nbconvert_exporter": "python",
      "pygments_lexer": "ipython3",
      "version": "3.9.1"
    },
    "orig_nbformat": 4,
    "colab": {
      "provenance": [],
      "gpuType": "T4"
    },
    "accelerator": "GPU"
  },
  "nbformat": 4,
  "nbformat_minor": 0
}